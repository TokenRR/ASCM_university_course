{
 "cells": [
  {
   "cell_type": "markdown",
   "metadata": {},
   "source": [
    "# КМ-01 | Романецький Микита | Варіант № 5"
   ]
  },
  {
   "cell_type": "code",
   "execution_count": 1,
   "metadata": {},
   "outputs": [],
   "source": [
    "from scipy.optimize import linprog\n",
    "from oct2py import octave"
   ]
  },
  {
   "cell_type": "code",
   "execution_count": 2,
   "metadata": {},
   "outputs": [],
   "source": [
    "def umova():\n",
    "    data = {'Список 1': [], 'Матриця 1': [], 'Список 2': []}\n",
    "    current_list = None\n",
    "\n",
    "    with open('data.txt', 'r', encoding='utf-8') as file:\n",
    "        for line in file:\n",
    "            line = line.strip()\n",
    "            if line.startswith('#'):\n",
    "                current_list = line[1:].strip()\n",
    "            elif current_list:\n",
    "                values = [float(x) for x in line.split()]\n",
    "                if current_list == 'Матриця 1':\n",
    "                    data[current_list].append(values)\n",
    "                else:\n",
    "                    data[current_list].extend(values)\n",
    "\n",
    "    data['Матриця 1'] = [row for row in data['Матриця 1'] if row]\n",
    "\n",
    "    return data['Список 1'], data['Матриця 1'], data['Список 2']\n",
    "\n",
    "c, A, b = umova()\n"
   ]
  },
  {
   "cell_type": "markdown",
   "metadata": {},
   "source": [
    "## Python"
   ]
  },
  {
   "cell_type": "code",
   "execution_count": 3,
   "metadata": {},
   "outputs": [
    {
     "name": "stdout",
     "output_type": "stream",
     "text": [
      "Розв'язок на мові Python\n",
      "\n",
      "Оптимальний план випуску продукції:\n",
      "P1 = 20800.0\n",
      "P2 = 4800.0\n",
      "P3 = 22600.0\n",
      "Максимальний прибуток: 7320000.0\n"
     ]
    }
   ],
   "source": [
    "# Визначення обмежень для змінних (повинні бути невід'ємні)\n",
    "x_bounds = [(0, None), (0, None), (0, None)]\n",
    "\n",
    "# Виклик функції лінійного програмування з методом 'highs' для максимізації прибутку\n",
    "result = linprog(c, A_ub=A, b_ub=b, bounds=x_bounds, method='highs')\n",
    "\n",
    "if result.success:\n",
    "    print('Розв\\'язок на мові Python\\n')\n",
    "    print('Оптимальний план випуску продукції:')\n",
    "    print('P1 =', round(result.x[0], 2))\n",
    "    print('P2 =', round(result.x[1], 2))\n",
    "    print('P3 =', round(result.x[2], 2))\n",
    "    print('Максимальний прибуток:', -round(result.fun, 2))\n",
    "else:\n",
    "    print('Задачу не вдалося вирішити.')\n"
   ]
  },
  {
   "cell_type": "markdown",
   "metadata": {},
   "source": [
    "## Octave"
   ]
  },
  {
   "cell_type": "code",
   "execution_count": 4,
   "metadata": {},
   "outputs": [
    {
     "name": "stdout",
     "output_type": "stream",
     "text": [
      "Розв'язок на мові Octave\n",
      "\n",
      "Оптимальний план випуску продукції:\n",
      "P1 = 20800.0\n",
      "P2 = 4800.0\n",
      "P3 = 22600.0\n",
      "Максимальний прибуток: 7320000.0\n"
     ]
    }
   ],
   "source": [
    "lb = [0, 0, 0]\n",
    "ub = []\n",
    "vartype = 'CCC'\n",
    "ctype = 'UUUU'\n",
    "sense = 1\n",
    "\n",
    "# Передаємо дані до Octave\n",
    "OCTAVE_DATA = {'c': c, 'A': A, 'b': b, 'lb': lb, 'ub': ub, 'vartype': vartype, 'ctype': ctype, 'sense': sense}\n",
    "\n",
    "for key, value in OCTAVE_DATA.items():\n",
    "    octave.push(key, value)\n",
    "\n",
    "\n",
    "# Викликаємо функцію glpk з Octave\n",
    "octave.eval('[x, fval, status] = glpk(c, A, b, lb, ub, ctype, vartype, sense);')\n",
    "\n",
    "# Отримуємо результати з Octave\n",
    "x = octave.pull('x')\n",
    "fval = octave.pull('fval')\n",
    "status = octave.pull('status')\n",
    "\n",
    "if status == 5:  # Статус 5 вказує на невирішену задачу\n",
    "    print(\"Задачу не вдалося вирішити.\")\n",
    "else:\n",
    "    print('Розв\\'язок на мові Octave\\n')\n",
    "    print(\"Оптимальний план випуску продукції:\")\n",
    "    print(f\"P1 = {x[0][0]}\")\n",
    "    print(f\"P2 = {x[1][0]}\")\n",
    "    print(f\"P3 = {x[2][0]}\")\n",
    "    print(\"Максимальний прибуток:\", -fval)\n",
    "\n"
   ]
  }
 ],
 "metadata": {
  "kernelspec": {
   "display_name": ".venv",
   "language": "python",
   "name": "python3"
  },
  "language_info": {
   "codemirror_mode": {
    "name": "ipython",
    "version": 3
   },
   "file_extension": ".py",
   "mimetype": "text/x-python",
   "name": "python",
   "nbconvert_exporter": "python",
   "pygments_lexer": "ipython3",
   "version": "3.11.3"
  }
 },
 "nbformat": 4,
 "nbformat_minor": 2
}
