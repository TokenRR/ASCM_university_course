{
 "cells": [
  {
   "cell_type": "markdown",
   "metadata": {},
   "source": [
    "# КМ-01 | Романецький Микита | Варіант № 8"
   ]
  },
  {
   "cell_type": "code",
   "execution_count": 1,
   "metadata": {},
   "outputs": [],
   "source": [
    "from oct2py import octave\n",
    "import numpy as np\n",
    "from collections import Counter"
   ]
  },
  {
   "cell_type": "code",
   "execution_count": 2,
   "metadata": {},
   "outputs": [],
   "source": [
    "def umova():\n",
    "    with open('data.txt', 'r', encoding='utf-8') as file:\n",
    "        lines = [line.strip() for line in file.readlines()]\n",
    "\n",
    "    # Знайти рядки з мітками\n",
    "    indices = {label: lines.index(label) for label in ['вектор a', 'вектор b', 'матриця С']}\n",
    "\n",
    "    # Читання векторів та матриці\n",
    "    a = np.fromstring(lines[indices['вектор a'] + 1], sep=',')\n",
    "    b = np.fromstring(lines[indices['вектор b'] + 1], sep=',')\n",
    "    C_start, C_end = indices['матриця С'] + 1, len(lines)\n",
    "    C = np.genfromtxt(lines[C_start:C_end], delimiter=',')\n",
    "\n",
    "    return a, b, C"
   ]
  },
  {
   "cell_type": "markdown",
   "metadata": {},
   "source": [
    "## Python"
   ]
  },
  {
   "cell_type": "code",
   "execution_count": 3,
   "metadata": {},
   "outputs": [
    {
     "name": "stdout",
     "output_type": "stream",
     "text": [
      "Розв'язок на мові Python\n",
      "\n",
      "Оптимальний план перевезень:\n",
      "[[ 0.  0.  8.  0. 10.]\n",
      " [ 0.  8.  0.  0.  4.]\n",
      " [ 0.  0.  0.  3. 14.]\n",
      " [ 8.  0.  0.  5.  0.]]\n",
      "Мінімальна вартість перевезень: 371.0\n"
     ]
    }
   ],
   "source": [
    "def transport(supply, demand, costs):\n",
    "    assert sum(supply) == sum(demand)\n",
    "\n",
    "    s, d, C = np.copy(supply), np.copy(demand), np.copy(costs)\n",
    "    n, m = C.shape\n",
    "    X = np.zeros((n, m))\n",
    "    indices = [(i, j) for i in range(n) for j in range(m)]\n",
    "    xs = sorted(zip(indices, C.flatten()), key=lambda a_b: a_b[1])\n",
    "\n",
    "    for (i, j), _ in xs:\n",
    "        if d[j] != 0:\n",
    "            remains = s[i] - d[j] if s[i] >= d[j] else 0\n",
    "            grabbed = s[i] - remains\n",
    "            X[i, j], s[i], d[j] = grabbed, remains, d[j] - grabbed\n",
    "\n",
    "    while True:\n",
    "        u = np.array([np.nan] * n)\n",
    "        v = np.array([np.nan] * m)\n",
    "        S = np.zeros((n, m))\n",
    "\n",
    "        nonzero = list(zip(*np.where(X > 0)))\n",
    "        u[nonzero[0][0]] = 0\n",
    "\n",
    "        while any(np.isnan(u)) or any(np.isnan(v)):\n",
    "            for i, j in nonzero:\n",
    "                if np.isnan(u[i]) and not np.isnan(v[j]):\n",
    "                    u[i] = C[i, j] - v[j]\n",
    "                elif not np.isnan(u[i]) and np.isnan(v[j]):\n",
    "                    v[j] = C[i, j] - u[i]\n",
    "\n",
    "        S = C - u[:, None] - v\n",
    "        s = np.min(S)\n",
    "\n",
    "        if s >= 0:\n",
    "            break\n",
    "\n",
    "        start = tuple(np.argwhere(S == s)[0])\n",
    "        T = np.copy(X)\n",
    "        T[start] = 1\n",
    "\n",
    "        while True:\n",
    "            _xs, _ys = np.nonzero(T)\n",
    "            xcount, ycount = Counter(_xs), Counter(_ys)\n",
    "\n",
    "            for x in xcount.keys():\n",
    "                if xcount[x] <= 1: T[x, :] = 0\n",
    "            for y in ycount.keys():\n",
    "                if ycount[y] <= 1: T[:, y] = 0\n",
    "\n",
    "            if all(x > 1 for x in xcount.values()) and all(y > 1 for y in ycount.values()):\n",
    "                break\n",
    "\n",
    "        path = [start]\n",
    "        fringe = set(tuple(p) for p in np.argwhere(T > 0))\n",
    "        size = len(fringe)\n",
    "\n",
    "        while len(path) < size:\n",
    "            last = path[-1]\n",
    "            fringe.remove(last)\n",
    "            next_ = min(fringe, key=lambda x_y: abs(last[0]-x_y[0]) + abs(last[1]-x_y[1]))\n",
    "            path.append(next_)\n",
    "\n",
    "        neg, pos = path[1::2], path[::2]\n",
    "        q = min(X[tuple(zip(*neg))])\n",
    "        X[tuple(zip(*neg))] -= q\n",
    "        X[tuple(zip(*pos))] += q\n",
    "\n",
    "    return X, np.sum(X * C)\n",
    "\n",
    "supply, demand, costs = umova()\n",
    "# print(supply)\n",
    "# print(demand)\n",
    "# print(costs)\n",
    "routes, total_cost = transport(supply, demand, costs)\n",
    "\n",
    "print('Розв\\'язок на мові Python\\n')\n",
    "print('Оптимальний план перевезень:')\n",
    "print(routes)\n",
    "print(f'Мінімальна вартість перевезень: {total_cost}')\n"
   ]
  },
  {
   "cell_type": "markdown",
   "metadata": {},
   "source": [
    "## Octave"
   ]
  },
  {
   "cell_type": "code",
   "execution_count": 4,
   "metadata": {},
   "outputs": [
    {
     "name": "stdout",
     "output_type": "stream",
     "text": [
      "Розв'язок на мові Octave\n",
      "\n",
      "Оптимальний план перевезень:\n",
      "[[ 0. 10.  0.  0.  0.]\n",
      " [ 0.  0.  4.  3.  0.]\n",
      " [ 8.  8.  0. 14.  5.]\n",
      " [ 0.  0.  0.  8.  0.]]\n",
      "Мінімальна вартість перевезень: 371.0\n"
     ]
    }
   ],
   "source": [
    "C = costs.astype(int).flatten().tolist()\n",
    "b = np.concatenate((supply, demand)).astype(int).tolist()\n",
    "\n",
    "m = len(supply)\n",
    "n = len(demand)\n",
    "\n",
    "A_eq = octave.zeros(m + n, m * n)\n",
    "b_eq = octave.zeros(m + n, 1)\n",
    "\n",
    "for i in range(m):\n",
    "    A_eq[i, i*n:(i+1)*n] = 1\n",
    "    b_eq[i] = b[i]\n",
    "\n",
    "for j in range(n):\n",
    "    A_eq[m+j, j::n] = 1\n",
    "    b_eq[m+j] = b[m+j]\n",
    "\n",
    "lb = octave.zeros(m * n, 1)\n",
    "ub = octave.inf(m * n, 1)\n",
    "\n",
    "param = {'msglev': 1}  #  двофазний простий симплекс\n",
    "ctype = 'S' * (m + n)\n",
    "vartype = 'C' * (m * n)\n",
    "sense = 1 \n",
    "results = octave.glpk(C, A_eq, b_eq, lb, ub, ctype, vartype, sense, param)\n",
    "plan = np.reshape(results, (n, m)).T\n",
    "oct_total_cost = octave.dot(C, results)\n",
    "\n",
    "print('Розв\\'язок на мові Octave\\n')\n",
    "print('Оптимальний план перевезень:')\n",
    "print(plan)\n",
    "print(f'Мінімальна вартість перевезень: {oct_total_cost}')\n"
   ]
  }
 ],
 "metadata": {
  "kernelspec": {
   "display_name": ".venv",
   "language": "python",
   "name": "python3"
  },
  "language_info": {
   "codemirror_mode": {
    "name": "ipython",
    "version": 3
   },
   "file_extension": ".py",
   "mimetype": "text/x-python",
   "name": "python",
   "nbconvert_exporter": "python",
   "pygments_lexer": "ipython3",
   "version": "3.11.3"
  }
 },
 "nbformat": 4,
 "nbformat_minor": 2
}
