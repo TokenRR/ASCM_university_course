{
 "cells": [
  {
   "cell_type": "markdown",
   "metadata": {},
   "source": [
    "# КМ-01 | Романецький Микита | Варіант № 16"
   ]
  },
  {
   "cell_type": "code",
   "execution_count": 1,
   "metadata": {},
   "outputs": [],
   "source": [
    "from oct2py import octave\n",
    "import numpy as np\n",
    "from scipy.optimize import fmin"
   ]
  },
  {
   "cell_type": "markdown",
   "metadata": {},
   "source": [
    "## Python"
   ]
  },
  {
   "cell_type": "code",
   "execution_count": 2,
   "metadata": {},
   "outputs": [
    {
     "name": "stdout",
     "output_type": "stream",
     "text": [
      "Результати Python\n",
      "Оптимальний вектор: [-2.00003125 -1.00001252]\n",
      "Мінімальне значення функції: -5.9999999985154755\n",
      "Оцінка похибки: 1.4845245033257015e-09\n"
     ]
    }
   ],
   "source": [
    "def optimize_my_function(initial_vector):\n",
    "    if len(initial_vector) != 2:\n",
    "        raise ValueError('Початковий вектор повинен мати розмірність 2')\n",
    "\n",
    "    def objective_function(x):\n",
    "        x1, x2 = x\n",
    "        return 6 * x1 + 2 * x1**2 - 2 * x1 * x2 + 2 * x2**2\n",
    "\n",
    "    optimal_vector = fmin(objective_function, initial_vector, disp=False)\n",
    "\n",
    "    return optimal_vector, objective_function(optimal_vector)\n",
    "\n",
    "real_optimal_value = -6  #  Реальні значення\n",
    "\n",
    "initial_vector = np.array([-1, -1])\n",
    "optimal_vector, optimal_value = optimize_my_function(initial_vector)\n",
    "error = abs(optimal_value - real_optimal_value)  #  Обчислити похибку для мінімального значення функції\n",
    "\n",
    "print('Результати Python')\n",
    "print('Оптимальний вектор:', optimal_vector)\n",
    "print('Мінімальне значення функції:', optimal_value)\n",
    "print('Оцінка похибки:', error)\n"
   ]
  },
  {
   "cell_type": "markdown",
   "metadata": {},
   "source": [
    "## Octave"
   ]
  },
  {
   "cell_type": "code",
   "execution_count": 3,
   "metadata": {},
   "outputs": [
    {
     "name": "stdout",
     "output_type": "stream",
     "text": [
      "Результати Octave\n",
      "Оптимальний вектор: [[-1.99999963 -0.99999989]]\n",
      "Мінімальне значення функції: -5.999999999999785\n",
      "Оцінка похибки: 2.149391775674303e-13\n"
     ]
    }
   ],
   "source": [
    "def optimize_with_octave(initial_vector):\n",
    "    if len(initial_vector) != 2:\n",
    "        raise ValueError('Початковий вектор повинен мати розмірність 2')\n",
    "\n",
    "    # Визначаємо функцію у форматі Octave\n",
    "    octave.eval(\"function y = objective_function(x) y = 6 * x(1) + 2 * x(1)^2 - 2 * x(1) * x(2) + 2 * x(2)^2; end\")\n",
    "\n",
    "    # Передаємо початковий вектор до Octave\n",
    "    x0 = initial_vector.tolist()\n",
    "    octave.push('initial_vector', x0)\n",
    "\n",
    "    # Використовуємо функцію fminunc для оптимізації\n",
    "    octave.eval(\"options = optimset('fminunc');\")\n",
    "    octave.eval(\"options.Display = 'off';\")\n",
    "    octave.eval(\"[optimal_vector, optimal_value] = fminunc(@objective_function, initial_vector, options);\")\n",
    "\n",
    "    # Отримуємо результати оптимізації\n",
    "    optimal_vector = octave.pull('optimal_vector')\n",
    "    optimal_value = octave.pull('optimal_value')\n",
    "\n",
    "    return optimal_vector, optimal_value\n",
    "\n",
    "real_optimal_value = -6  #  Реальні значення\n",
    "\n",
    "initial_vector = np.array([-1, -1])\n",
    "optimal_vector, optimal_value = optimize_with_octave(initial_vector)\n",
    "error = abs(optimal_value - real_optimal_value)  #  Обчислити похибку для мінімального значення функції\n",
    "\n",
    "print('Результати Octave')\n",
    "print('Оптимальний вектор:', optimal_vector)\n",
    "print('Мінімальне значення функції:', optimal_value)\n",
    "print('Оцінка похибки:', error)\n"
   ]
  }
 ],
 "metadata": {
  "kernelspec": {
   "display_name": ".venv",
   "language": "python",
   "name": "python3"
  },
  "language_info": {
   "codemirror_mode": {
    "name": "ipython",
    "version": 3
   },
   "file_extension": ".py",
   "mimetype": "text/x-python",
   "name": "python",
   "nbconvert_exporter": "python",
   "pygments_lexer": "ipython3",
   "version": "3.11.3"
  }
 },
 "nbformat": 4,
 "nbformat_minor": 2
}
